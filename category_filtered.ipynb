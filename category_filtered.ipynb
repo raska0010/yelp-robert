{
 "cells": [
  {
   "cell_type": "markdown",
   "metadata": {},
   "source": [
    "# yelp capstone project\n",
    "Consist of 5 tables e.g Business, Review, User, Tip, Checkin.\\\n",
    "For dataset details kindly [visit](https://www.yelp.com/dataset/documentation/main)\\\n",
    "Bootcamper : Robert, Sining, Theresa, Kamruddin\n",
    "\n",
    "The project was initialized and capstoned to pass the knowledge and learning into application."
   ]
  },
  {
   "cell_type": "markdown",
   "metadata": {},
   "source": [
    "Now we are importing necessary packages "
   ]
  },
  {
   "cell_type": "code",
   "execution_count": 1,
   "metadata": {},
   "outputs": [],
   "source": [
    "import json\n",
    "import pandas as pd"
   ]
  },
  {
   "cell_type": "markdown",
   "metadata": {},
   "source": [
    "Opening json file from business dataset together with unpacking 'arrributes' columns to find to particular hypothetic columns."
   ]
  },
  {
   "cell_type": "code",
   "execution_count": 2,
   "metadata": {},
   "outputs": [],
   "source": [
    "data = []\n",
    "\n",
    "with open('data/yelp_academic_dataset_business.json') as f:\n",
    "\n",
    "    for line in f:\n",
    "        \n",
    "        #Parse the JSON data\n",
    "        json_dict = json.loads(line)\n",
    "\n",
    "        if json_dict['attributes']:\n",
    "            if 'BusinessParking' in json_dict['attributes'].keys():\n",
    "\n",
    "                json_dict['attributes']['BusinessParking'] = eval(json_dict['attributes']['BusinessParking'])\n",
    "\n",
    "        data.append(json_dict)"
   ]
  },
  {
   "cell_type": "markdown",
   "metadata": {},
   "source": [
    "normlize dataset"
   ]
  },
  {
   "cell_type": "code",
   "execution_count": 3,
   "metadata": {},
   "outputs": [],
   "source": [
    "biz_df = pd.json_normalize(data)"
   ]
  },
  {
   "cell_type": "code",
   "execution_count": 4,
   "metadata": {},
   "outputs": [
    {
     "data": {
      "text/plain": [
       "(150346, 65)"
      ]
     },
     "execution_count": 4,
     "metadata": {},
     "output_type": "execute_result"
    }
   ],
   "source": [
    "biz_df.shape\n",
    "# now we get 150,346 rows and 65 columns in total."
   ]
  },
  {
   "cell_type": "markdown",
   "metadata": {},
   "source": [
    "## Filtering out dataset by state PA (Execute Next 3 steps )"
   ]
  },
  {
   "cell_type": "code",
   "execution_count": 5,
   "metadata": {},
   "outputs": [],
   "source": [
    "#1 create function for filtering by state\n",
    "\n",
    "def state_filter(dataframe, column, state):\n",
    "    businesses_new = dataframe[dataframe[column] == state].copy()\n",
    "    return businesses_new"
   ]
  },
  {
   "cell_type": "code",
   "execution_count": 6,
   "metadata": {},
   "outputs": [],
   "source": [
    "#2 filter for all businesses in Pennsylvania \n",
    "\n",
    "biz_df = state_filter(biz_df, 'state', 'PA')"
   ]
  },
  {
   "cell_type": "code",
   "execution_count": 7,
   "metadata": {},
   "outputs": [],
   "source": [
    "#3 delete the columns 'address', 'city', 'state', 'postal_code', 'is_open'\n",
    "\n",
    "biz_df.drop(columns=['address', 'city', 'state', 'postal_code', 'is_open'], inplace=True, errors='ignore')"
   ]
  },
  {
   "cell_type": "markdown",
   "metadata": {},
   "source": [
    "Then the file will narrow down to 34,039 rows from 150,346 rows."
   ]
  },
  {
   "cell_type": "code",
   "execution_count": 8,
   "metadata": {},
   "outputs": [
    {
     "data": {
      "text/plain": [
       "(34039, 60)"
      ]
     },
     "execution_count": 8,
     "metadata": {},
     "output_type": "execute_result"
    }
   ],
   "source": [
    "biz_df.shape"
   ]
  },
  {
   "cell_type": "markdown",
   "metadata": {},
   "source": [
    "## Dropping empty category rows and reset index on existing dataframe"
   ]
  },
  {
   "cell_type": "code",
   "execution_count": 9,
   "metadata": {},
   "outputs": [],
   "source": [
    "# drop row that have no category labels\n",
    "biz_df.dropna(subset='categories', inplace=True)\n",
    "# reset index\n",
    "biz_df.reset_index(drop=True, inplace=True)"
   ]
  },
  {
   "cell_type": "code",
   "execution_count": 10,
   "metadata": {},
   "outputs": [],
   "source": [
    "# import category labels from CSV and filter dataframe to keep row that have category label Approx 30 min\n",
    "cat_data = pd.read_csv('data/categories.csv', header=None)\n",
    "categories = cat_data[0].tolist()\n",
    "filtered_df = pd.DataFrame()\n",
    "\n",
    "for index, item in biz_df['categories'].items():\n",
    "\n",
    "    for category in categories:\n",
    "        if category in item:\n",
    "            filtered_df = pd.concat([filtered_df, biz_df[index:index+1]])\n",
    "            break"
   ]
  },
  {
   "cell_type": "code",
   "execution_count": 11,
   "metadata": {},
   "outputs": [
    {
     "data": {
      "text/plain": [
       "Index(['business_id', 'name', 'latitude', 'longitude', 'stars', 'review_count',\n",
       "       'categories', 'hours', 'attributes.ByAppointmentOnly',\n",
       "       'attributes.BusinessAcceptsCreditCards', 'hours.Monday',\n",
       "       'hours.Tuesday', 'hours.Wednesday', 'hours.Thursday', 'hours.Friday',\n",
       "       'hours.Saturday', 'attributes.BikeParking',\n",
       "       'attributes.RestaurantsPriceRange2', 'attributes.CoatCheck',\n",
       "       'attributes.RestaurantsTakeOut', 'attributes.RestaurantsDelivery',\n",
       "       'attributes.Caters', 'attributes.WiFi',\n",
       "       'attributes.BusinessParking.garage',\n",
       "       'attributes.BusinessParking.street',\n",
       "       'attributes.BusinessParking.validated',\n",
       "       'attributes.BusinessParking.lot', 'attributes.BusinessParking.valet',\n",
       "       'attributes.WheelchairAccessible', 'attributes.HappyHour',\n",
       "       'attributes.OutdoorSeating', 'attributes.HasTV',\n",
       "       'attributes.RestaurantsReservations', 'attributes.DogsAllowed',\n",
       "       'hours.Sunday', 'attributes.Alcohol', 'attributes.GoodForKids',\n",
       "       'attributes.BusinessParking', 'attributes.RestaurantsAttire',\n",
       "       'attributes.Ambience', 'attributes.RestaurantsTableService',\n",
       "       'attributes.RestaurantsGoodForGroups', 'attributes.DriveThru',\n",
       "       'attributes', 'attributes.NoiseLevel', 'attributes.GoodForMeal',\n",
       "       'attributes.BusinessAcceptsBitcoin', 'attributes.Smoking',\n",
       "       'attributes.Music', 'attributes.GoodForDancing',\n",
       "       'attributes.AcceptsInsurance', 'attributes.BestNights',\n",
       "       'attributes.BYOB', 'attributes.Corkage', 'attributes.BYOBCorkage',\n",
       "       'attributes.HairSpecializesIn', 'attributes.Open24Hours',\n",
       "       'attributes.RestaurantsCounterService', 'attributes.AgesAllowed',\n",
       "       'attributes.DietaryRestrictions'],\n",
       "      dtype='object')"
      ]
     },
     "execution_count": 11,
     "metadata": {},
     "output_type": "execute_result"
    }
   ],
   "source": [
    "filtered_df.columns"
   ]
  },
  {
   "cell_type": "markdown",
   "metadata": {},
   "source": [
    "### Cleaning columns from business table"
   ]
  },
  {
   "cell_type": "code",
   "execution_count": 12,
   "metadata": {},
   "outputs": [],
   "source": [
    "#1 dropping less important columns\n",
    "filtered_df.drop(['hours','attributes.ByAppointmentOnly', 'attributes.BikeParking','attributes.CoatCheck',\n",
    "       'attributes.Caters', 'attributes.WiFi', 'attributes.WheelchairAccessible', 'attributes.HappyHour', 'attributes.HasTV', 'attributes.DogsAllowed', 'attributes.GoodForKids',\n",
    "       'attributes.RestaurantsAttire','attributes.NoiseLevel', 'attributes.GoodForMeal', 'attributes.BusinessAcceptsBitcoin', 'attributes.Smoking','attributes.Music',\n",
    "       'attributes.GoodForDancing', 'attributes.AcceptsInsurance', 'attributes.BestNights', 'attributes.BYOB', 'attributes.Corkage', 'attributes.BYOBCorkage',\n",
    "       'attributes.HairSpecializesIn','attributes.AgesAllowed','attributes.DietaryRestrictions','attributes.BusinessParking','attributes', 'attributes.Ambience'], axis=1, inplace=True)"
   ]
  },
  {
   "cell_type": "code",
   "execution_count": 13,
   "metadata": {},
   "outputs": [
    {
     "data": {
      "text/plain": [
       "Index(['business_id', 'name', 'latitude', 'longitude', 'stars', 'review_count',\n",
       "       'categories', 'attributes.BusinessAcceptsCreditCards', 'hours.Monday',\n",
       "       'hours.Tuesday', 'hours.Wednesday', 'hours.Thursday', 'hours.Friday',\n",
       "       'hours.Saturday', 'attributes.RestaurantsPriceRange2',\n",
       "       'attributes.RestaurantsTakeOut', 'attributes.RestaurantsDelivery',\n",
       "       'attributes.BusinessParking.garage',\n",
       "       'attributes.BusinessParking.street',\n",
       "       'attributes.BusinessParking.validated',\n",
       "       'attributes.BusinessParking.lot', 'attributes.BusinessParking.valet',\n",
       "       'attributes.OutdoorSeating', 'attributes.RestaurantsReservations',\n",
       "       'hours.Sunday', 'attributes.Alcohol',\n",
       "       'attributes.RestaurantsTableService',\n",
       "       'attributes.RestaurantsGoodForGroups', 'attributes.DriveThru',\n",
       "       'attributes.Open24Hours', 'attributes.RestaurantsCounterService'],\n",
       "      dtype='object')"
      ]
     },
     "execution_count": 13,
     "metadata": {},
     "output_type": "execute_result"
    }
   ],
   "source": [
    "filtered_df.columns"
   ]
  },
  {
   "cell_type": "code",
   "execution_count": 14,
   "metadata": {},
   "outputs": [],
   "source": [
    "#2 renaming the header\n",
    "filtered_df.rename(columns={'attributes.BusinessAcceptsCreditCards': 'accepts_credit_cards','hours.Monday':'monday', 'hours.Tuesday':'tuesday','hours.Wednesday':'wednesday',\n",
    "                       'hours.Thursday':'thursday','hours.Friday':'friday','hours.Saturday':'saturday','hours.Sunday':'sunday','attributes.RestaurantsPriceRange2':'price_range',\n",
    "                       'attributes.RestaurantsTakeOut':'take_out','attributes.RestaurantsDelivery':'delivery','attributes.BusinessParking.garage':'parking_garage',\n",
    "                       'attributes.BusinessParking.street':'parking_street','attributes.BusinessParking.validated':'parking_validated','attributes.BusinessParking.lot':'parking_lot',\n",
    "                       'attributes.BusinessParking.valet':'parking_valet','attributes.OutdoorSeating':'outdoor_seating','attributes.RestaurantsReservations':'seats_reservations',\n",
    "                       'attributes.Alcohol':'alcohol','attributes.Ambience':'ambience','attributes.RestaurantsTableService':'table_service','attributes.RestaurantsGoodForGroups':'for_groups',\n",
    "                       'attributes.DriveThru':'drive_thru','attributes.Open24Hours':'open_24_hours','attributes.RestaurantsCounterService':'counter_service'}, inplace=True)"
   ]
  },
  {
   "cell_type": "code",
   "execution_count": 15,
   "metadata": {},
   "outputs": [
    {
     "name": "stdout",
     "output_type": "stream",
     "text": [
      "<class 'pandas.core.frame.DataFrame'>\n",
      "Index: 15830 entries, 0 to 34012\n",
      "Data columns (total 31 columns):\n",
      " #   Column                Non-Null Count  Dtype  \n",
      "---  ------                --------------  -----  \n",
      " 0   business_id           15830 non-null  object \n",
      " 1   name                  15830 non-null  object \n",
      " 2   latitude              15830 non-null  float64\n",
      " 3   longitude             15830 non-null  float64\n",
      " 4   stars                 15830 non-null  float64\n",
      " 5   review_count          15830 non-null  int64  \n",
      " 6   categories            15830 non-null  object \n",
      " 7   accepts_credit_cards  14370 non-null  object \n",
      " 8   monday                11136 non-null  object \n",
      " 9   tuesday               12051 non-null  object \n",
      " 10  wednesday             12766 non-null  object \n",
      " 11  thursday              13017 non-null  object \n",
      " 12  friday                13103 non-null  object \n",
      " 13  saturday              12828 non-null  object \n",
      " 14  price_range           13419 non-null  object \n",
      " 15  take_out              13916 non-null  object \n",
      " 16  delivery              12967 non-null  object \n",
      " 17  parking_garage        13311 non-null  object \n",
      " 18  parking_street        13251 non-null  object \n",
      " 19  parking_validated     13370 non-null  object \n",
      " 20  parking_lot           13507 non-null  object \n",
      " 21  parking_valet         13795 non-null  object \n",
      " 22  outdoor_seating       11407 non-null  object \n",
      " 23  seats_reservations    10689 non-null  object \n",
      " 24  sunday                11365 non-null  object \n",
      " 25  alcohol               10356 non-null  object \n",
      " 26  table_service         4443 non-null   object \n",
      " 27  for_groups            10383 non-null  object \n",
      " 28  drive_thru            1270 non-null   object \n",
      " 29  open_24_hours         6 non-null      object \n",
      " 30  counter_service       4 non-null      object \n",
      "dtypes: float64(3), int64(1), object(27)\n",
      "memory usage: 3.9+ MB\n"
     ]
    }
   ],
   "source": [
    "filtered_df.info()"
   ]
  },
  {
   "cell_type": "code",
   "execution_count": 16,
   "metadata": {},
   "outputs": [
    {
     "data": {
      "text/plain": [
       "Index(['business_id', 'name', 'latitude', 'longitude', 'stars', 'review_count',\n",
       "       'categories', 'accepts_credit_cards', 'monday', 'tuesday', 'wednesday',\n",
       "       'thursday', 'friday', 'saturday', 'price_range', 'take_out', 'delivery',\n",
       "       'parking_garage', 'parking_street', 'parking_validated', 'parking_lot',\n",
       "       'parking_valet', 'outdoor_seating', 'seats_reservations', 'sunday',\n",
       "       'alcohol', 'table_service', 'for_groups', 'drive_thru', 'open_24_hours',\n",
       "       'counter_service'],\n",
       "      dtype='object')"
      ]
     },
     "execution_count": 16,
     "metadata": {},
     "output_type": "execute_result"
    }
   ],
   "source": [
    "filtered_df.columns"
   ]
  },
  {
   "cell_type": "markdown",
   "metadata": {},
   "source": [
    "### Cleaning data inside the cells"
   ]
  },
  {
   "cell_type": "code",
   "execution_count": 17,
   "metadata": {},
   "outputs": [
    {
     "data": {
      "text/plain": [
       "array([\"u'none'\", nan, \"'full_bar'\", \"u'full_bar'\", \"'none'\",\n",
       "       \"'beer_and_wine'\", \"u'beer_and_wine'\", 'None'], dtype=object)"
      ]
     },
     "execution_count": 17,
     "metadata": {},
     "output_type": "execute_result"
    }
   ],
   "source": [
    "filtered_df['alcohol'].unique()"
   ]
  },
  {
   "cell_type": "code",
   "execution_count": 18,
   "metadata": {},
   "outputs": [],
   "source": [
    "filtered_df['alcohol'] = filtered_df['alcohol'].str.replace(\"u'\", \"\").str.replace(\"'\", \"\")"
   ]
  },
  {
   "cell_type": "code",
   "execution_count": 19,
   "metadata": {},
   "outputs": [
    {
     "data": {
      "text/plain": [
       "array(['none', nan, 'full_bar', 'beer_and_wine', 'None'], dtype=object)"
      ]
     },
     "execution_count": 19,
     "metadata": {},
     "output_type": "execute_result"
    }
   ],
   "source": [
    "filtered_df['alcohol'].unique()"
   ]
  },
  {
   "cell_type": "markdown",
   "metadata": {},
   "source": [
    "### copying the dataframe to not loose the original df and find parking availability "
   ]
  },
  {
   "cell_type": "code",
   "execution_count": 20,
   "metadata": {},
   "outputs": [],
   "source": [
    "filter_df = filtered_df.copy()"
   ]
  },
  {
   "cell_type": "code",
   "execution_count": 21,
   "metadata": {},
   "outputs": [],
   "source": [
    "# creating function to check the Values either true in any case\n",
    "def parking_check(row):\n",
    "    if row['parking_garage'] == True or row['parking_street'] == True or row['parking_validated'] == True or row['parking_lot'] == True or row['parking_valet'] == True:\n",
    "        return True\n",
    "    else:\n",
    "        return False"
   ]
  },
  {
   "cell_type": "code",
   "execution_count": 22,
   "metadata": {},
   "outputs": [],
   "source": [
    "# running parking check by row if anywhere found True returns True in a new Column else all returning False.\n",
    "filter_df['parking_available'] = filter_df.apply(parking_check, axis=1)"
   ]
  },
  {
   "cell_type": "code",
   "execution_count": 23,
   "metadata": {},
   "outputs": [],
   "source": [
    "# dropping all the parking extensions from the table to be in more cleaned way\n",
    "filter_df.drop(['parking_garage', 'parking_street','parking_validated','parking_lot','parking_valet'], axis=1, inplace=True)"
   ]
  },
  {
   "cell_type": "code",
   "execution_count": 24,
   "metadata": {},
   "outputs": [
    {
     "data": {
      "text/html": [
       "<div>\n",
       "<style scoped>\n",
       "    .dataframe tbody tr th:only-of-type {\n",
       "        vertical-align: middle;\n",
       "    }\n",
       "\n",
       "    .dataframe tbody tr th {\n",
       "        vertical-align: top;\n",
       "    }\n",
       "\n",
       "    .dataframe thead th {\n",
       "        text-align: right;\n",
       "    }\n",
       "</style>\n",
       "<table border=\"1\" class=\"dataframe\">\n",
       "  <thead>\n",
       "    <tr style=\"text-align: right;\">\n",
       "      <th></th>\n",
       "      <th>business_id</th>\n",
       "      <th>name</th>\n",
       "      <th>latitude</th>\n",
       "      <th>longitude</th>\n",
       "      <th>stars</th>\n",
       "      <th>review_count</th>\n",
       "      <th>categories</th>\n",
       "      <th>accepts_credit_cards</th>\n",
       "      <th>monday</th>\n",
       "      <th>tuesday</th>\n",
       "      <th>...</th>\n",
       "      <th>outdoor_seating</th>\n",
       "      <th>seats_reservations</th>\n",
       "      <th>sunday</th>\n",
       "      <th>alcohol</th>\n",
       "      <th>table_service</th>\n",
       "      <th>for_groups</th>\n",
       "      <th>drive_thru</th>\n",
       "      <th>open_24_hours</th>\n",
       "      <th>counter_service</th>\n",
       "      <th>parking_available</th>\n",
       "    </tr>\n",
       "  </thead>\n",
       "  <tbody>\n",
       "    <tr>\n",
       "      <th>0</th>\n",
       "      <td>MTSW4McQd7CbVtyjqoe9mw</td>\n",
       "      <td>St Honore Pastries</td>\n",
       "      <td>39.955505</td>\n",
       "      <td>-75.155564</td>\n",
       "      <td>4.0</td>\n",
       "      <td>80</td>\n",
       "      <td>Restaurants, Food, Bubble Tea, Coffee &amp; Tea, B...</td>\n",
       "      <td>False</td>\n",
       "      <td>7:0-20:0</td>\n",
       "      <td>7:0-20:0</td>\n",
       "      <td>...</td>\n",
       "      <td>False</td>\n",
       "      <td>NaN</td>\n",
       "      <td>7:0-21:0</td>\n",
       "      <td>none</td>\n",
       "      <td>NaN</td>\n",
       "      <td>NaN</td>\n",
       "      <td>NaN</td>\n",
       "      <td>NaN</td>\n",
       "      <td>NaN</td>\n",
       "      <td>True</td>\n",
       "    </tr>\n",
       "    <tr>\n",
       "      <th>1</th>\n",
       "      <td>mWMc6_wTdE0EUBKIGXDVfA</td>\n",
       "      <td>Perkiomen Valley Brewery</td>\n",
       "      <td>40.338183</td>\n",
       "      <td>-75.471659</td>\n",
       "      <td>4.5</td>\n",
       "      <td>13</td>\n",
       "      <td>Brewpubs, Breweries, Food</td>\n",
       "      <td>True</td>\n",
       "      <td>NaN</td>\n",
       "      <td>NaN</td>\n",
       "      <td>...</td>\n",
       "      <td>NaN</td>\n",
       "      <td>NaN</td>\n",
       "      <td>12:0-18:0</td>\n",
       "      <td>NaN</td>\n",
       "      <td>NaN</td>\n",
       "      <td>NaN</td>\n",
       "      <td>NaN</td>\n",
       "      <td>NaN</td>\n",
       "      <td>NaN</td>\n",
       "      <td>True</td>\n",
       "    </tr>\n",
       "    <tr>\n",
       "      <th>2</th>\n",
       "      <td>MUTTqe8uqyMdBl186RmNeA</td>\n",
       "      <td>Tuna Bar</td>\n",
       "      <td>39.953949</td>\n",
       "      <td>-75.143226</td>\n",
       "      <td>4.0</td>\n",
       "      <td>245</td>\n",
       "      <td>Sushi Bars, Restaurants, Japanese</td>\n",
       "      <td>True</td>\n",
       "      <td>NaN</td>\n",
       "      <td>13:30-22:0</td>\n",
       "      <td>...</td>\n",
       "      <td>True</td>\n",
       "      <td>True</td>\n",
       "      <td>13:30-22:0</td>\n",
       "      <td>full_bar</td>\n",
       "      <td>True</td>\n",
       "      <td>True</td>\n",
       "      <td>NaN</td>\n",
       "      <td>NaN</td>\n",
       "      <td>NaN</td>\n",
       "      <td>True</td>\n",
       "    </tr>\n",
       "    <tr>\n",
       "      <th>3</th>\n",
       "      <td>ROeacJQwBeh05Rqg7F6TCg</td>\n",
       "      <td>BAP</td>\n",
       "      <td>39.943223</td>\n",
       "      <td>-75.162568</td>\n",
       "      <td>4.5</td>\n",
       "      <td>205</td>\n",
       "      <td>Korean, Restaurants</td>\n",
       "      <td>True</td>\n",
       "      <td>11:30-20:30</td>\n",
       "      <td>11:30-20:30</td>\n",
       "      <td>...</td>\n",
       "      <td>None</td>\n",
       "      <td>False</td>\n",
       "      <td>NaN</td>\n",
       "      <td>none</td>\n",
       "      <td>True</td>\n",
       "      <td>False</td>\n",
       "      <td>NaN</td>\n",
       "      <td>NaN</td>\n",
       "      <td>NaN</td>\n",
       "      <td>True</td>\n",
       "    </tr>\n",
       "    <tr>\n",
       "      <th>5</th>\n",
       "      <td>QdN72BWoyFypdGJhhI5r7g</td>\n",
       "      <td>Bar One</td>\n",
       "      <td>39.939825</td>\n",
       "      <td>-75.157447</td>\n",
       "      <td>4.0</td>\n",
       "      <td>65</td>\n",
       "      <td>Cocktail Bars, Bars, Italian, Nightlife, Resta...</td>\n",
       "      <td>True</td>\n",
       "      <td>16:0-0:0</td>\n",
       "      <td>16:0-0:0</td>\n",
       "      <td>...</td>\n",
       "      <td>False</td>\n",
       "      <td>False</td>\n",
       "      <td>11:0-0:0</td>\n",
       "      <td>full_bar</td>\n",
       "      <td>True</td>\n",
       "      <td>True</td>\n",
       "      <td>NaN</td>\n",
       "      <td>NaN</td>\n",
       "      <td>NaN</td>\n",
       "      <td>True</td>\n",
       "    </tr>\n",
       "    <tr>\n",
       "      <th>...</th>\n",
       "      <td>...</td>\n",
       "      <td>...</td>\n",
       "      <td>...</td>\n",
       "      <td>...</td>\n",
       "      <td>...</td>\n",
       "      <td>...</td>\n",
       "      <td>...</td>\n",
       "      <td>...</td>\n",
       "      <td>...</td>\n",
       "      <td>...</td>\n",
       "      <td>...</td>\n",
       "      <td>...</td>\n",
       "      <td>...</td>\n",
       "      <td>...</td>\n",
       "      <td>...</td>\n",
       "      <td>...</td>\n",
       "      <td>...</td>\n",
       "      <td>...</td>\n",
       "      <td>...</td>\n",
       "      <td>...</td>\n",
       "      <td>...</td>\n",
       "    </tr>\n",
       "    <tr>\n",
       "      <th>34002</th>\n",
       "      <td>gPr1io7ks0Eo3FDsnDTYfg</td>\n",
       "      <td>Tata Cafe</td>\n",
       "      <td>40.060414</td>\n",
       "      <td>-75.191084</td>\n",
       "      <td>4.0</td>\n",
       "      <td>21</td>\n",
       "      <td>Sandwiches, Restaurants, Italian</td>\n",
       "      <td>True</td>\n",
       "      <td>7:0-17:0</td>\n",
       "      <td>7:0-17:0</td>\n",
       "      <td>...</td>\n",
       "      <td>True</td>\n",
       "      <td>False</td>\n",
       "      <td>8:0-17:0</td>\n",
       "      <td>none</td>\n",
       "      <td>False</td>\n",
       "      <td>True</td>\n",
       "      <td>NaN</td>\n",
       "      <td>NaN</td>\n",
       "      <td>NaN</td>\n",
       "      <td>False</td>\n",
       "    </tr>\n",
       "    <tr>\n",
       "      <th>34003</th>\n",
       "      <td>wVxXRFf10zTTAs11nr4xeA</td>\n",
       "      <td>PrimoHoagies</td>\n",
       "      <td>40.032483</td>\n",
       "      <td>-75.214430</td>\n",
       "      <td>3.0</td>\n",
       "      <td>55</td>\n",
       "      <td>Restaurants, Specialty Food, Food, Sandwiches,...</td>\n",
       "      <td>True</td>\n",
       "      <td>10:0-21:0</td>\n",
       "      <td>10:0-21:0</td>\n",
       "      <td>...</td>\n",
       "      <td>False</td>\n",
       "      <td>False</td>\n",
       "      <td>10:0-19:0</td>\n",
       "      <td>none</td>\n",
       "      <td>NaN</td>\n",
       "      <td>False</td>\n",
       "      <td>NaN</td>\n",
       "      <td>NaN</td>\n",
       "      <td>NaN</td>\n",
       "      <td>True</td>\n",
       "    </tr>\n",
       "    <tr>\n",
       "      <th>34006</th>\n",
       "      <td>8n93L-ilMAsvwUatarykSg</td>\n",
       "      <td>Kitchen Gia</td>\n",
       "      <td>39.951018</td>\n",
       "      <td>-75.198240</td>\n",
       "      <td>3.0</td>\n",
       "      <td>22</td>\n",
       "      <td>Coffee &amp; Tea, Food, Sandwiches, American (Trad...</td>\n",
       "      <td>True</td>\n",
       "      <td>9:0-19:30</td>\n",
       "      <td>9:0-19:30</td>\n",
       "      <td>...</td>\n",
       "      <td>True</td>\n",
       "      <td>False</td>\n",
       "      <td>11:0-19:30</td>\n",
       "      <td>none</td>\n",
       "      <td>False</td>\n",
       "      <td>True</td>\n",
       "      <td>NaN</td>\n",
       "      <td>NaN</td>\n",
       "      <td>NaN</td>\n",
       "      <td>False</td>\n",
       "    </tr>\n",
       "    <tr>\n",
       "      <th>34008</th>\n",
       "      <td>l9eLGG9ZKpLJzboZq-9LRQ</td>\n",
       "      <td>Wawa</td>\n",
       "      <td>39.925656</td>\n",
       "      <td>-75.310344</td>\n",
       "      <td>3.0</td>\n",
       "      <td>11</td>\n",
       "      <td>Restaurants, Sandwiches, Convenience Stores, C...</td>\n",
       "      <td>True</td>\n",
       "      <td>0:0-0:0</td>\n",
       "      <td>0:0-0:0</td>\n",
       "      <td>...</td>\n",
       "      <td>NaN</td>\n",
       "      <td>NaN</td>\n",
       "      <td>0:0-0:0</td>\n",
       "      <td>NaN</td>\n",
       "      <td>NaN</td>\n",
       "      <td>NaN</td>\n",
       "      <td>NaN</td>\n",
       "      <td>NaN</td>\n",
       "      <td>NaN</td>\n",
       "      <td>True</td>\n",
       "    </tr>\n",
       "    <tr>\n",
       "      <th>34012</th>\n",
       "      <td>WnT9NIzQgLlILjPT0kEcsQ</td>\n",
       "      <td>Adelita Taqueria &amp; Restaurant</td>\n",
       "      <td>39.935982</td>\n",
       "      <td>-75.158665</td>\n",
       "      <td>4.5</td>\n",
       "      <td>35</td>\n",
       "      <td>Restaurants, Mexican</td>\n",
       "      <td>True</td>\n",
       "      <td>11:0-22:0</td>\n",
       "      <td>11:0-22:0</td>\n",
       "      <td>...</td>\n",
       "      <td>False</td>\n",
       "      <td>False</td>\n",
       "      <td>11:0-22:0</td>\n",
       "      <td>none</td>\n",
       "      <td>True</td>\n",
       "      <td>True</td>\n",
       "      <td>NaN</td>\n",
       "      <td>NaN</td>\n",
       "      <td>NaN</td>\n",
       "      <td>True</td>\n",
       "    </tr>\n",
       "  </tbody>\n",
       "</table>\n",
       "<p>15830 rows × 27 columns</p>\n",
       "</div>"
      ],
      "text/plain": [
       "                  business_id                           name   latitude  \\\n",
       "0      MTSW4McQd7CbVtyjqoe9mw             St Honore Pastries  39.955505   \n",
       "1      mWMc6_wTdE0EUBKIGXDVfA       Perkiomen Valley Brewery  40.338183   \n",
       "2      MUTTqe8uqyMdBl186RmNeA                       Tuna Bar  39.953949   \n",
       "3      ROeacJQwBeh05Rqg7F6TCg                            BAP  39.943223   \n",
       "5      QdN72BWoyFypdGJhhI5r7g                        Bar One  39.939825   \n",
       "...                       ...                            ...        ...   \n",
       "34002  gPr1io7ks0Eo3FDsnDTYfg                      Tata Cafe  40.060414   \n",
       "34003  wVxXRFf10zTTAs11nr4xeA                   PrimoHoagies  40.032483   \n",
       "34006  8n93L-ilMAsvwUatarykSg                    Kitchen Gia  39.951018   \n",
       "34008  l9eLGG9ZKpLJzboZq-9LRQ                           Wawa  39.925656   \n",
       "34012  WnT9NIzQgLlILjPT0kEcsQ  Adelita Taqueria & Restaurant  39.935982   \n",
       "\n",
       "       longitude  stars  review_count  \\\n",
       "0     -75.155564    4.0            80   \n",
       "1     -75.471659    4.5            13   \n",
       "2     -75.143226    4.0           245   \n",
       "3     -75.162568    4.5           205   \n",
       "5     -75.157447    4.0            65   \n",
       "...          ...    ...           ...   \n",
       "34002 -75.191084    4.0            21   \n",
       "34003 -75.214430    3.0            55   \n",
       "34006 -75.198240    3.0            22   \n",
       "34008 -75.310344    3.0            11   \n",
       "34012 -75.158665    4.5            35   \n",
       "\n",
       "                                              categories accepts_credit_cards  \\\n",
       "0      Restaurants, Food, Bubble Tea, Coffee & Tea, B...                False   \n",
       "1                              Brewpubs, Breweries, Food                 True   \n",
       "2                      Sushi Bars, Restaurants, Japanese                 True   \n",
       "3                                    Korean, Restaurants                 True   \n",
       "5      Cocktail Bars, Bars, Italian, Nightlife, Resta...                 True   \n",
       "...                                                  ...                  ...   \n",
       "34002                   Sandwiches, Restaurants, Italian                 True   \n",
       "34003  Restaurants, Specialty Food, Food, Sandwiches,...                 True   \n",
       "34006  Coffee & Tea, Food, Sandwiches, American (Trad...                 True   \n",
       "34008  Restaurants, Sandwiches, Convenience Stores, C...                 True   \n",
       "34012                               Restaurants, Mexican                 True   \n",
       "\n",
       "            monday      tuesday  ... outdoor_seating seats_reservations  \\\n",
       "0         7:0-20:0     7:0-20:0  ...           False                NaN   \n",
       "1              NaN          NaN  ...             NaN                NaN   \n",
       "2              NaN   13:30-22:0  ...            True               True   \n",
       "3      11:30-20:30  11:30-20:30  ...            None              False   \n",
       "5         16:0-0:0     16:0-0:0  ...           False              False   \n",
       "...            ...          ...  ...             ...                ...   \n",
       "34002     7:0-17:0     7:0-17:0  ...            True              False   \n",
       "34003    10:0-21:0    10:0-21:0  ...           False              False   \n",
       "34006    9:0-19:30    9:0-19:30  ...            True              False   \n",
       "34008      0:0-0:0      0:0-0:0  ...             NaN                NaN   \n",
       "34012    11:0-22:0    11:0-22:0  ...           False              False   \n",
       "\n",
       "           sunday   alcohol table_service for_groups drive_thru open_24_hours  \\\n",
       "0        7:0-21:0      none           NaN        NaN        NaN           NaN   \n",
       "1       12:0-18:0       NaN           NaN        NaN        NaN           NaN   \n",
       "2      13:30-22:0  full_bar          True       True        NaN           NaN   \n",
       "3             NaN      none          True      False        NaN           NaN   \n",
       "5        11:0-0:0  full_bar          True       True        NaN           NaN   \n",
       "...           ...       ...           ...        ...        ...           ...   \n",
       "34002    8:0-17:0      none         False       True        NaN           NaN   \n",
       "34003   10:0-19:0      none           NaN      False        NaN           NaN   \n",
       "34006  11:0-19:30      none         False       True        NaN           NaN   \n",
       "34008     0:0-0:0       NaN           NaN        NaN        NaN           NaN   \n",
       "34012   11:0-22:0      none          True       True        NaN           NaN   \n",
       "\n",
       "      counter_service parking_available  \n",
       "0                 NaN              True  \n",
       "1                 NaN              True  \n",
       "2                 NaN              True  \n",
       "3                 NaN              True  \n",
       "5                 NaN              True  \n",
       "...               ...               ...  \n",
       "34002             NaN             False  \n",
       "34003             NaN              True  \n",
       "34006             NaN             False  \n",
       "34008             NaN              True  \n",
       "34012             NaN              True  \n",
       "\n",
       "[15830 rows x 27 columns]"
      ]
     },
     "execution_count": 24,
     "metadata": {},
     "output_type": "execute_result"
    }
   ],
   "source": [
    "filter_df"
   ]
  },
  {
   "cell_type": "markdown",
   "metadata": {},
   "source": [
    "### Now we have 15,830 rows and 28 analysable columns for further process.\n",
    "### Calling review date and filter selected business_id"
   ]
  },
  {
   "cell_type": "code",
   "execution_count": 25,
   "metadata": {},
   "outputs": [],
   "source": [
    "filtered = filter_df['business_id'].to_list()\n",
    "import pandas as pd\n",
    "column_names = ['review_id', 'user_id', 'business_id', 'stars', 'useful', 'funny', 'cool', 'text', 'date']\n",
    "chunks = pd.read_json('data/y_review.json', lines=True, chunksize=10000)\n",
    "with open('data/review_filtered.csv', 'w') as f:\n",
    "    header = ','.join(column_names)\n",
    "    f.write(header + '\\n')\n",
    "for chunk in chunks:\n",
    "    df = pd.DataFrame(chunk)\n",
    "    for index, item in df['business_id'].items():\n",
    "        if item in filtered:\n",
    "            chunk[index:index+1].to_csv('data/review_filtered.csv', mode='a', header=False, index=False)\n",
    "    break"
   ]
  },
  {
   "cell_type": "code",
   "execution_count": 26,
   "metadata": {},
   "outputs": [
    {
     "data": {
      "text/plain": [
       "(2087, 9)"
      ]
     },
     "execution_count": 26,
     "metadata": {},
     "output_type": "execute_result"
    }
   ],
   "source": [
    "output = pd.read_csv('data/review_filtered.csv')\n",
    "output.shape"
   ]
  }
 ],
 "metadata": {
  "kernelspec": {
   "display_name": "base",
   "language": "python",
   "name": "python3"
  },
  "language_info": {
   "codemirror_mode": {
    "name": "ipython",
    "version": 3
   },
   "file_extension": ".py",
   "mimetype": "text/x-python",
   "name": "python",
   "nbconvert_exporter": "python",
   "pygments_lexer": "ipython3",
   "version": "3.9.17"
  }
 },
 "nbformat": 4,
 "nbformat_minor": 2
}
