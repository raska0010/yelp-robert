{
 "cells": [
  {
   "cell_type": "code",
   "execution_count": 2,
   "metadata": {},
   "outputs": [],
   "source": [
    "import pandas as pd\n",
    "import spacy"
   ]
  },
  {
   "cell_type": "code",
   "execution_count": 3,
   "metadata": {},
   "outputs": [],
   "source": [
    "reviews_sentiments = pd.read_csv('data/review_pa_sentiment.csv')"
   ]
  },
  {
   "cell_type": "code",
   "execution_count": 4,
   "metadata": {},
   "outputs": [
    {
     "data": {
      "text/html": [
       "<div>\n",
       "<style scoped>\n",
       "    .dataframe tbody tr th:only-of-type {\n",
       "        vertical-align: middle;\n",
       "    }\n",
       "\n",
       "    .dataframe tbody tr th {\n",
       "        vertical-align: top;\n",
       "    }\n",
       "\n",
       "    .dataframe thead th {\n",
       "        text-align: right;\n",
       "    }\n",
       "</style>\n",
       "<table border=\"1\" class=\"dataframe\">\n",
       "  <thead>\n",
       "    <tr style=\"text-align: right;\">\n",
       "      <th></th>\n",
       "      <th>business_id</th>\n",
       "      <th>review_id</th>\n",
       "      <th>text</th>\n",
       "      <th>result</th>\n",
       "    </tr>\n",
       "  </thead>\n",
       "  <tbody>\n",
       "    <tr>\n",
       "      <th>0</th>\n",
       "      <td>zRjUMHQJ5gAmFhcXZtLacA</td>\n",
       "      <td>MbC7LA9y1rcVxtVKF3RaSg</td>\n",
       "      <td>OK. I'll settle this issue and we can be done ...</td>\n",
       "      <td>[{'label': 'LABEL_2', 'score': 0.9355611205101...</td>\n",
       "    </tr>\n",
       "    <tr>\n",
       "      <th>1</th>\n",
       "      <td>VHA-b1NH4tIZB_IVEf_pmA</td>\n",
       "      <td>sSQKHpFs8tSXl4Lv34zQgQ</td>\n",
       "      <td>I have to say that Minado is a above the avera...</td>\n",
       "      <td>[{'label': 'LABEL_1', 'score': 0.7932114005088...</td>\n",
       "    </tr>\n",
       "    <tr>\n",
       "      <th>2</th>\n",
       "      <td>cPDX2Y4H0fks-Qj5tfBduA</td>\n",
       "      <td>_B5qqp5srqGFiHio1Wl-FA</td>\n",
       "      <td>Love the little window concept. Very cute pink...</td>\n",
       "      <td>[{'label': 'LABEL_2', 'score': 0.9971407651901...</td>\n",
       "    </tr>\n",
       "    <tr>\n",
       "      <th>3</th>\n",
       "      <td>UljbSHv00PKS6YUnnCiSZA</td>\n",
       "      <td>PIHnj9k4ow29r7CVwcjfYA</td>\n",
       "      <td>We frequent this place often because the food ...</td>\n",
       "      <td>[{'label': 'LABEL_2', 'score': 0.9953340888023...</td>\n",
       "    </tr>\n",
       "    <tr>\n",
       "      <th>4</th>\n",
       "      <td>c1okcAnrDc9jIy3DbOUbqQ</td>\n",
       "      <td>qShqGHbUTD48-7CMNmOZWg</td>\n",
       "      <td>Ate here on 2 different occasions, and in both...</td>\n",
       "      <td>[{'label': 'LABEL_2', 'score': 0.9953511953353...</td>\n",
       "    </tr>\n",
       "    <tr>\n",
       "      <th>...</th>\n",
       "      <td>...</td>\n",
       "      <td>...</td>\n",
       "      <td>...</td>\n",
       "      <td>...</td>\n",
       "    </tr>\n",
       "    <tr>\n",
       "      <th>1184892</th>\n",
       "      <td>iSSErxB_4XLkrKU0CotYMg</td>\n",
       "      <td>y9KnJsni5eqZrPYOz9RKZQ</td>\n",
       "      <td>I've had both Pat's and Geno's and Jim's beats...</td>\n",
       "      <td>[{'label': 'LABEL_2', 'score': 0.9218658804893...</td>\n",
       "    </tr>\n",
       "    <tr>\n",
       "      <th>1184893</th>\n",
       "      <td>qcguEeAMP0XwFLYqhwX2hg</td>\n",
       "      <td>kKg785BzBgMl2ObxQZ244g</td>\n",
       "      <td>ADORABLE inside, albeit a bit bare still, supe...</td>\n",
       "      <td>[{'label': 'LABEL_2', 'score': 0.9728355407714...</td>\n",
       "    </tr>\n",
       "    <tr>\n",
       "      <th>1184894</th>\n",
       "      <td>9c7MUiE6VI8NesjPdj5FkA</td>\n",
       "      <td>Hx20Q_Vf9f4TCmx5tCMkzg</td>\n",
       "      <td>This place has never been fast but man it seem...</td>\n",
       "      <td>[{'label': 'LABEL_0', 'score': 0.9369096159934...</td>\n",
       "    </tr>\n",
       "    <tr>\n",
       "      <th>1184895</th>\n",
       "      <td>jLoQf_d2DmBGTlccjkpEIA</td>\n",
       "      <td>Z8BSakOHx2C6A80R4tLbAA</td>\n",
       "      <td>m mm mm'm, mmm, mm'm, mm m mmm mm m!  And that...</td>\n",
       "      <td>[{'label': 'LABEL_2', 'score': 0.9961341619491...</td>\n",
       "    </tr>\n",
       "    <tr>\n",
       "      <th>1184896</th>\n",
       "      <td>j-qtdD55OLfSqfsWuQTDJg</td>\n",
       "      <td>-ASFj7UT6JXqs4pkWi5p2Q</td>\n",
       "      <td>French Onion Soup = Foodgasm\\n\\n$11 is a small...</td>\n",
       "      <td>[{'label': 'LABEL_2', 'score': 0.8704457283020...</td>\n",
       "    </tr>\n",
       "  </tbody>\n",
       "</table>\n",
       "<p>1184897 rows × 4 columns</p>\n",
       "</div>"
      ],
      "text/plain": [
       "                    business_id               review_id  \\\n",
       "0        zRjUMHQJ5gAmFhcXZtLacA  MbC7LA9y1rcVxtVKF3RaSg   \n",
       "1        VHA-b1NH4tIZB_IVEf_pmA  sSQKHpFs8tSXl4Lv34zQgQ   \n",
       "2        cPDX2Y4H0fks-Qj5tfBduA  _B5qqp5srqGFiHio1Wl-FA   \n",
       "3        UljbSHv00PKS6YUnnCiSZA  PIHnj9k4ow29r7CVwcjfYA   \n",
       "4        c1okcAnrDc9jIy3DbOUbqQ  qShqGHbUTD48-7CMNmOZWg   \n",
       "...                         ...                     ...   \n",
       "1184892  iSSErxB_4XLkrKU0CotYMg  y9KnJsni5eqZrPYOz9RKZQ   \n",
       "1184893  qcguEeAMP0XwFLYqhwX2hg  kKg785BzBgMl2ObxQZ244g   \n",
       "1184894  9c7MUiE6VI8NesjPdj5FkA  Hx20Q_Vf9f4TCmx5tCMkzg   \n",
       "1184895  jLoQf_d2DmBGTlccjkpEIA  Z8BSakOHx2C6A80R4tLbAA   \n",
       "1184896  j-qtdD55OLfSqfsWuQTDJg  -ASFj7UT6JXqs4pkWi5p2Q   \n",
       "\n",
       "                                                      text  \\\n",
       "0        OK. I'll settle this issue and we can be done ...   \n",
       "1        I have to say that Minado is a above the avera...   \n",
       "2        Love the little window concept. Very cute pink...   \n",
       "3        We frequent this place often because the food ...   \n",
       "4        Ate here on 2 different occasions, and in both...   \n",
       "...                                                    ...   \n",
       "1184892  I've had both Pat's and Geno's and Jim's beats...   \n",
       "1184893  ADORABLE inside, albeit a bit bare still, supe...   \n",
       "1184894  This place has never been fast but man it seem...   \n",
       "1184895  m mm mm'm, mmm, mm'm, mm m mmm mm m!  And that...   \n",
       "1184896  French Onion Soup = Foodgasm\\n\\n$11 is a small...   \n",
       "\n",
       "                                                    result  \n",
       "0        [{'label': 'LABEL_2', 'score': 0.9355611205101...  \n",
       "1        [{'label': 'LABEL_1', 'score': 0.7932114005088...  \n",
       "2        [{'label': 'LABEL_2', 'score': 0.9971407651901...  \n",
       "3        [{'label': 'LABEL_2', 'score': 0.9953340888023...  \n",
       "4        [{'label': 'LABEL_2', 'score': 0.9953511953353...  \n",
       "...                                                    ...  \n",
       "1184892  [{'label': 'LABEL_2', 'score': 0.9218658804893...  \n",
       "1184893  [{'label': 'LABEL_2', 'score': 0.9728355407714...  \n",
       "1184894  [{'label': 'LABEL_0', 'score': 0.9369096159934...  \n",
       "1184895  [{'label': 'LABEL_2', 'score': 0.9961341619491...  \n",
       "1184896  [{'label': 'LABEL_2', 'score': 0.8704457283020...  \n",
       "\n",
       "[1184897 rows x 4 columns]"
      ]
     },
     "execution_count": 4,
     "metadata": {},
     "output_type": "execute_result"
    }
   ],
   "source": [
    "reviews_sentiments"
   ]
  },
  {
   "cell_type": "code",
   "execution_count": 5,
   "metadata": {},
   "outputs": [],
   "source": [
    "reviews_penn = pd.read_csv('data/reviews_pa.csv')"
   ]
  },
  {
   "cell_type": "code",
   "execution_count": 6,
   "metadata": {},
   "outputs": [],
   "source": [
    "reviews = reviews_penn.merge(reviews_sentiments, how='inner', on='text')"
   ]
  },
  {
   "cell_type": "code",
   "execution_count": 7,
   "metadata": {},
   "outputs": [
    {
     "data": {
      "text/html": [
       "<div>\n",
       "<style scoped>\n",
       "    .dataframe tbody tr th:only-of-type {\n",
       "        vertical-align: middle;\n",
       "    }\n",
       "\n",
       "    .dataframe tbody tr th {\n",
       "        vertical-align: top;\n",
       "    }\n",
       "\n",
       "    .dataframe thead th {\n",
       "        text-align: right;\n",
       "    }\n",
       "</style>\n",
       "<table border=\"1\" class=\"dataframe\">\n",
       "  <thead>\n",
       "    <tr style=\"text-align: right;\">\n",
       "      <th></th>\n",
       "      <th>stars</th>\n",
       "      <th>text</th>\n",
       "      <th>date</th>\n",
       "      <th>business_id</th>\n",
       "      <th>review_id</th>\n",
       "      <th>result</th>\n",
       "    </tr>\n",
       "  </thead>\n",
       "  <tbody>\n",
       "    <tr>\n",
       "      <th>0</th>\n",
       "      <td>3</td>\n",
       "      <td>Decent and OK breakfast but at the same time a...</td>\n",
       "      <td>2016-05-07</td>\n",
       "      <td>m8O_40RlYTs1rk_AOnLjFA</td>\n",
       "      <td>qpny0tadWO2zCJzYBBl6Ig</td>\n",
       "      <td>[{'label': 'LABEL_1', 'score': 0.8829119205474...</td>\n",
       "    </tr>\n",
       "    <tr>\n",
       "      <th>1</th>\n",
       "      <td>5</td>\n",
       "      <td>The Godfather is hands down the best hoagie/sa...</td>\n",
       "      <td>2019-02-06</td>\n",
       "      <td>fqXH9i7an8b_GQEeR9sVcg</td>\n",
       "      <td>g1FzVxvppPW2oF7LULCOdA</td>\n",
       "      <td>[{'label': 'LABEL_2', 'score': 0.9968566894531...</td>\n",
       "    </tr>\n",
       "    <tr>\n",
       "      <th>2</th>\n",
       "      <td>3</td>\n",
       "      <td>This restaurant is a solid dining choice. It d...</td>\n",
       "      <td>2015-01-03</td>\n",
       "      <td>Nz4wStdidvLuxiAlf5tVwA</td>\n",
       "      <td>qKr6FFEphbkUQ93awPGz_A</td>\n",
       "      <td>[{'label': 'LABEL_2', 'score': 0.6934490203857...</td>\n",
       "    </tr>\n",
       "    <tr>\n",
       "      <th>3</th>\n",
       "      <td>4</td>\n",
       "      <td>In the Food Court area of the grand Amtrak 30t...</td>\n",
       "      <td>2020-01-18</td>\n",
       "      <td>TQeMOhco0FL9zHrmJHiPAg</td>\n",
       "      <td>xw5IdXZS5PhlfsPi47y0cg</td>\n",
       "      <td>[{'label': 'LABEL_2', 'score': 0.9959272742271...</td>\n",
       "    </tr>\n",
       "    <tr>\n",
       "      <th>4</th>\n",
       "      <td>2</td>\n",
       "      <td>Review from dinner on 10/13/13\\n\\nI was SO exc...</td>\n",
       "      <td>2013-10-18</td>\n",
       "      <td>i2ofWDYFEd9-ZzpNcyZtGQ</td>\n",
       "      <td>iLF108NGn5ySGbXBQbSGUw</td>\n",
       "      <td>[{'label': 'LABEL_0', 'score': 0.9864304065704...</td>\n",
       "    </tr>\n",
       "    <tr>\n",
       "      <th>...</th>\n",
       "      <td>...</td>\n",
       "      <td>...</td>\n",
       "      <td>...</td>\n",
       "      <td>...</td>\n",
       "      <td>...</td>\n",
       "      <td>...</td>\n",
       "    </tr>\n",
       "    <tr>\n",
       "      <th>1189900</th>\n",
       "      <td>5</td>\n",
       "      <td>Nice place. Good food &amp; service. Very clean. M...</td>\n",
       "      <td>2017-05-11</td>\n",
       "      <td>m8O_40RlYTs1rk_AOnLjFA</td>\n",
       "      <td>jRskV2nOWy7GBxn9zgsnCQ</td>\n",
       "      <td>[{'label': 'LABEL_2', 'score': 0.9951322674751...</td>\n",
       "    </tr>\n",
       "    <tr>\n",
       "      <th>1189901</th>\n",
       "      <td>1</td>\n",
       "      <td>Tacos were a joke. I ordered the old school al...</td>\n",
       "      <td>2019-02-16</td>\n",
       "      <td>S21Myaj831l5rG4AKEyekA</td>\n",
       "      <td>gUmYzzRnqibHvq8502WeQw</td>\n",
       "      <td>[{'label': 'LABEL_0', 'score': 0.9832194447517...</td>\n",
       "    </tr>\n",
       "    <tr>\n",
       "      <th>1189902</th>\n",
       "      <td>5</td>\n",
       "      <td>Awesome food.  Terrific barmaid. Love it!  Gre...</td>\n",
       "      <td>2019-04-12</td>\n",
       "      <td>8P2RT_hvyOO-q40ib4Dipg</td>\n",
       "      <td>r9V9T_C5nPFdTryZeI_uvQ</td>\n",
       "      <td>[{'label': 'LABEL_2', 'score': 0.9977159500122...</td>\n",
       "    </tr>\n",
       "    <tr>\n",
       "      <th>1189903</th>\n",
       "      <td>5</td>\n",
       "      <td>Really great food, everything's fresh &amp; the st...</td>\n",
       "      <td>2019-03-10</td>\n",
       "      <td>m9VBtsGjgcsuePaTlDCz4A</td>\n",
       "      <td>wDcBDW7zidfxkh8Aolxmgw</td>\n",
       "      <td>[{'label': 'LABEL_2', 'score': 0.9922134280204...</td>\n",
       "    </tr>\n",
       "    <tr>\n",
       "      <th>1189904</th>\n",
       "      <td>5</td>\n",
       "      <td>The place was busy and there's a good reason- ...</td>\n",
       "      <td>2019-01-03</td>\n",
       "      <td>yK2F2XBum1UdJz3o24mK2w</td>\n",
       "      <td>Y0S8ajth7R_W12GGhLpuVg</td>\n",
       "      <td>[{'label': 'LABEL_2', 'score': 0.9979211688041...</td>\n",
       "    </tr>\n",
       "  </tbody>\n",
       "</table>\n",
       "<p>1189905 rows × 6 columns</p>\n",
       "</div>"
      ],
      "text/plain": [
       "         stars                                               text        date  \\\n",
       "0            3  Decent and OK breakfast but at the same time a...  2016-05-07   \n",
       "1            5  The Godfather is hands down the best hoagie/sa...  2019-02-06   \n",
       "2            3  This restaurant is a solid dining choice. It d...  2015-01-03   \n",
       "3            4  In the Food Court area of the grand Amtrak 30t...  2020-01-18   \n",
       "4            2  Review from dinner on 10/13/13\\n\\nI was SO exc...  2013-10-18   \n",
       "...        ...                                                ...         ...   \n",
       "1189900      5  Nice place. Good food & service. Very clean. M...  2017-05-11   \n",
       "1189901      1  Tacos were a joke. I ordered the old school al...  2019-02-16   \n",
       "1189902      5  Awesome food.  Terrific barmaid. Love it!  Gre...  2019-04-12   \n",
       "1189903      5  Really great food, everything's fresh & the st...  2019-03-10   \n",
       "1189904      5  The place was busy and there's a good reason- ...  2019-01-03   \n",
       "\n",
       "                    business_id               review_id  \\\n",
       "0        m8O_40RlYTs1rk_AOnLjFA  qpny0tadWO2zCJzYBBl6Ig   \n",
       "1        fqXH9i7an8b_GQEeR9sVcg  g1FzVxvppPW2oF7LULCOdA   \n",
       "2        Nz4wStdidvLuxiAlf5tVwA  qKr6FFEphbkUQ93awPGz_A   \n",
       "3        TQeMOhco0FL9zHrmJHiPAg  xw5IdXZS5PhlfsPi47y0cg   \n",
       "4        i2ofWDYFEd9-ZzpNcyZtGQ  iLF108NGn5ySGbXBQbSGUw   \n",
       "...                         ...                     ...   \n",
       "1189900  m8O_40RlYTs1rk_AOnLjFA  jRskV2nOWy7GBxn9zgsnCQ   \n",
       "1189901  S21Myaj831l5rG4AKEyekA  gUmYzzRnqibHvq8502WeQw   \n",
       "1189902  8P2RT_hvyOO-q40ib4Dipg  r9V9T_C5nPFdTryZeI_uvQ   \n",
       "1189903  m9VBtsGjgcsuePaTlDCz4A  wDcBDW7zidfxkh8Aolxmgw   \n",
       "1189904  yK2F2XBum1UdJz3o24mK2w  Y0S8ajth7R_W12GGhLpuVg   \n",
       "\n",
       "                                                    result  \n",
       "0        [{'label': 'LABEL_1', 'score': 0.8829119205474...  \n",
       "1        [{'label': 'LABEL_2', 'score': 0.9968566894531...  \n",
       "2        [{'label': 'LABEL_2', 'score': 0.6934490203857...  \n",
       "3        [{'label': 'LABEL_2', 'score': 0.9959272742271...  \n",
       "4        [{'label': 'LABEL_0', 'score': 0.9864304065704...  \n",
       "...                                                    ...  \n",
       "1189900  [{'label': 'LABEL_2', 'score': 0.9951322674751...  \n",
       "1189901  [{'label': 'LABEL_0', 'score': 0.9832194447517...  \n",
       "1189902  [{'label': 'LABEL_2', 'score': 0.9977159500122...  \n",
       "1189903  [{'label': 'LABEL_2', 'score': 0.9922134280204...  \n",
       "1189904  [{'label': 'LABEL_2', 'score': 0.9979211688041...  \n",
       "\n",
       "[1189905 rows x 6 columns]"
      ]
     },
     "execution_count": 7,
     "metadata": {},
     "output_type": "execute_result"
    }
   ],
   "source": [
    "reviews"
   ]
  },
  {
   "cell_type": "code",
   "execution_count": 8,
   "metadata": {},
   "outputs": [],
   "source": [
    "reviews[['sentiment_label', 'sentiment_score']] = reviews['result'].str.split(', ', expand=True)\n",
    "reviews[['delete', 'sentiment_label']] = reviews['sentiment_label'].str.split(' ', expand=True)"
   ]
  },
  {
   "cell_type": "code",
   "execution_count": 9,
   "metadata": {},
   "outputs": [],
   "source": [
    "reviews['sentiment_label'] = reviews['sentiment_label'].str.replace('LABEL_2', 'Positive')\n",
    "reviews['sentiment_label'] = reviews['sentiment_label'].str.replace('LABEL_1', 'Neutral')\n",
    "reviews['sentiment_label'] = reviews['sentiment_label'].str.replace('LABEL_0', 'Negative')\n",
    "\n",
    "reviews['sentiment_label'] = reviews['sentiment_label'].str.replace(\"'\", \"\")"
   ]
  },
  {
   "cell_type": "code",
   "execution_count": 10,
   "metadata": {},
   "outputs": [],
   "source": [
    "reviews.drop(columns=['delete', 'result', 'sentiment_score'], inplace=True, errors='ignore')"
   ]
  },
  {
   "cell_type": "code",
   "execution_count": 11,
   "metadata": {},
   "outputs": [],
   "source": [
    "neg_reviews = reviews[reviews['sentiment_label'] == 'Negative']"
   ]
  },
  {
   "cell_type": "code",
   "execution_count": 12,
   "metadata": {},
   "outputs": [
    {
     "data": {
      "text/html": [
       "<div>\n",
       "<style scoped>\n",
       "    .dataframe tbody tr th:only-of-type {\n",
       "        vertical-align: middle;\n",
       "    }\n",
       "\n",
       "    .dataframe tbody tr th {\n",
       "        vertical-align: top;\n",
       "    }\n",
       "\n",
       "    .dataframe thead th {\n",
       "        text-align: right;\n",
       "    }\n",
       "</style>\n",
       "<table border=\"1\" class=\"dataframe\">\n",
       "  <thead>\n",
       "    <tr style=\"text-align: right;\">\n",
       "      <th></th>\n",
       "      <th>stars</th>\n",
       "      <th>text</th>\n",
       "      <th>date</th>\n",
       "      <th>business_id</th>\n",
       "      <th>review_id</th>\n",
       "      <th>sentiment_label</th>\n",
       "    </tr>\n",
       "  </thead>\n",
       "  <tbody>\n",
       "    <tr>\n",
       "      <th>4</th>\n",
       "      <td>2</td>\n",
       "      <td>Review from dinner on 10/13/13\\n\\nI was SO exc...</td>\n",
       "      <td>2013-10-18</td>\n",
       "      <td>i2ofWDYFEd9-ZzpNcyZtGQ</td>\n",
       "      <td>iLF108NGn5ySGbXBQbSGUw</td>\n",
       "      <td>Negative</td>\n",
       "    </tr>\n",
       "    <tr>\n",
       "      <th>6</th>\n",
       "      <td>2</td>\n",
       "      <td>Have been there probably 200 times in 30plus y...</td>\n",
       "      <td>2019-03-06</td>\n",
       "      <td>Gn_e8TJFSMcV1rzklJ9gLA</td>\n",
       "      <td>YEgNfvmcxwWRF3POIibyBg</td>\n",
       "      <td>Negative</td>\n",
       "    </tr>\n",
       "    <tr>\n",
       "      <th>12</th>\n",
       "      <td>3</td>\n",
       "      <td>So disappointed.  We went for dinner after the...</td>\n",
       "      <td>2019-07-22</td>\n",
       "      <td>elSnD7Vuxnlg5_9gTqBqmA</td>\n",
       "      <td>iqDaCV_PXPSpqIFqBUMVUw</td>\n",
       "      <td>Negative</td>\n",
       "    </tr>\n",
       "    <tr>\n",
       "      <th>15</th>\n",
       "      <td>1</td>\n",
       "      <td>I know when I'm traveling out of California, a...</td>\n",
       "      <td>2007-06-24</td>\n",
       "      <td>vuM_e7niXcspLooTVZNXPQ</td>\n",
       "      <td>AvaQjeO6zHvfmaFE4uQeYw</td>\n",
       "      <td>Negative</td>\n",
       "    </tr>\n",
       "    <tr>\n",
       "      <th>16</th>\n",
       "      <td>2</td>\n",
       "      <td>Produce not fresh...wilted &amp; old. \\nI would ex...</td>\n",
       "      <td>2017-03-26</td>\n",
       "      <td>zz3E7kmJI2r2JseE6LAnrw</td>\n",
       "      <td>Rauu4q0XABNL_wyc0D-yfQ</td>\n",
       "      <td>Negative</td>\n",
       "    </tr>\n",
       "    <tr>\n",
       "      <th>...</th>\n",
       "      <td>...</td>\n",
       "      <td>...</td>\n",
       "      <td>...</td>\n",
       "      <td>...</td>\n",
       "      <td>...</td>\n",
       "      <td>...</td>\n",
       "    </tr>\n",
       "    <tr>\n",
       "      <th>1189884</th>\n",
       "      <td>1</td>\n",
       "      <td>HORRID EXPERIENCE! They cooked out steaks 3 ti...</td>\n",
       "      <td>2019-01-05</td>\n",
       "      <td>h2BUHkba3UlMM8xBIylzag</td>\n",
       "      <td>UnrmZYFro664phT7fZItWw</td>\n",
       "      <td>Negative</td>\n",
       "    </tr>\n",
       "    <tr>\n",
       "      <th>1189886</th>\n",
       "      <td>1</td>\n",
       "      <td>The coconut soup is disgusting. Way too salty....</td>\n",
       "      <td>2014-09-26</td>\n",
       "      <td>U3Bqo_gZ0sIHMqil2fUlUw</td>\n",
       "      <td>U4hRKiZ8mD4VqR79MrBixw</td>\n",
       "      <td>Negative</td>\n",
       "    </tr>\n",
       "    <tr>\n",
       "      <th>1189892</th>\n",
       "      <td>2</td>\n",
       "      <td>The food here is great - however, the service ...</td>\n",
       "      <td>2014-11-10</td>\n",
       "      <td>HUL-3j50kvnKvVBX_oHGEQ</td>\n",
       "      <td>E8e1a4Llna-POBR4oGQUcA</td>\n",
       "      <td>Negative</td>\n",
       "    </tr>\n",
       "    <tr>\n",
       "      <th>1189897</th>\n",
       "      <td>3</td>\n",
       "      <td>I ordered two cheese steaks and two orders of ...</td>\n",
       "      <td>2019-03-24</td>\n",
       "      <td>d7nNIaYRfD3lPHzV3DZnwg</td>\n",
       "      <td>J1irb8vMGyCQT-9nyqiojQ</td>\n",
       "      <td>Negative</td>\n",
       "    </tr>\n",
       "    <tr>\n",
       "      <th>1189901</th>\n",
       "      <td>1</td>\n",
       "      <td>Tacos were a joke. I ordered the old school al...</td>\n",
       "      <td>2019-02-16</td>\n",
       "      <td>S21Myaj831l5rG4AKEyekA</td>\n",
       "      <td>gUmYzzRnqibHvq8502WeQw</td>\n",
       "      <td>Negative</td>\n",
       "    </tr>\n",
       "  </tbody>\n",
       "</table>\n",
       "<p>239390 rows × 6 columns</p>\n",
       "</div>"
      ],
      "text/plain": [
       "         stars                                               text        date  \\\n",
       "4            2  Review from dinner on 10/13/13\\n\\nI was SO exc...  2013-10-18   \n",
       "6            2  Have been there probably 200 times in 30plus y...  2019-03-06   \n",
       "12           3  So disappointed.  We went for dinner after the...  2019-07-22   \n",
       "15           1  I know when I'm traveling out of California, a...  2007-06-24   \n",
       "16           2  Produce not fresh...wilted & old. \\nI would ex...  2017-03-26   \n",
       "...        ...                                                ...         ...   \n",
       "1189884      1  HORRID EXPERIENCE! They cooked out steaks 3 ti...  2019-01-05   \n",
       "1189886      1  The coconut soup is disgusting. Way too salty....  2014-09-26   \n",
       "1189892      2  The food here is great - however, the service ...  2014-11-10   \n",
       "1189897      3  I ordered two cheese steaks and two orders of ...  2019-03-24   \n",
       "1189901      1  Tacos were a joke. I ordered the old school al...  2019-02-16   \n",
       "\n",
       "                    business_id               review_id sentiment_label  \n",
       "4        i2ofWDYFEd9-ZzpNcyZtGQ  iLF108NGn5ySGbXBQbSGUw        Negative  \n",
       "6        Gn_e8TJFSMcV1rzklJ9gLA  YEgNfvmcxwWRF3POIibyBg        Negative  \n",
       "12       elSnD7Vuxnlg5_9gTqBqmA  iqDaCV_PXPSpqIFqBUMVUw        Negative  \n",
       "15       vuM_e7niXcspLooTVZNXPQ  AvaQjeO6zHvfmaFE4uQeYw        Negative  \n",
       "16       zz3E7kmJI2r2JseE6LAnrw  Rauu4q0XABNL_wyc0D-yfQ        Negative  \n",
       "...                         ...                     ...             ...  \n",
       "1189884  h2BUHkba3UlMM8xBIylzag  UnrmZYFro664phT7fZItWw        Negative  \n",
       "1189886  U3Bqo_gZ0sIHMqil2fUlUw  U4hRKiZ8mD4VqR79MrBixw        Negative  \n",
       "1189892  HUL-3j50kvnKvVBX_oHGEQ  E8e1a4Llna-POBR4oGQUcA        Negative  \n",
       "1189897  d7nNIaYRfD3lPHzV3DZnwg  J1irb8vMGyCQT-9nyqiojQ        Negative  \n",
       "1189901  S21Myaj831l5rG4AKEyekA  gUmYzzRnqibHvq8502WeQw        Negative  \n",
       "\n",
       "[239390 rows x 6 columns]"
      ]
     },
     "execution_count": 12,
     "metadata": {},
     "output_type": "execute_result"
    }
   ],
   "source": [
    "neg_reviews"
   ]
  },
  {
   "cell_type": "code",
   "execution_count": 13,
   "metadata": {},
   "outputs": [
    {
     "name": "stderr",
     "output_type": "stream",
     "text": [
      "/var/folders/5t/qp4h49ss46q2tzmcdgn4clc40000gn/T/ipykernel_1440/1139008681.py:1: SettingWithCopyWarning: \n",
      "A value is trying to be set on a copy of a slice from a DataFrame.\n",
      "Try using .loc[row_indexer,col_indexer] = value instead\n",
      "\n",
      "See the caveats in the documentation: https://pandas.pydata.org/pandas-docs/stable/user_guide/indexing.html#returning-a-view-versus-a-copy\n",
      "  neg_reviews['date'] = pd.to_datetime(neg_reviews['date'])\n"
     ]
    }
   ],
   "source": [
    "neg_reviews['date'] = pd.to_datetime(neg_reviews['date'])"
   ]
  },
  {
   "cell_type": "code",
   "execution_count": 14,
   "metadata": {},
   "outputs": [],
   "source": [
    "neg_reviews = neg_reviews.groupby(by='date').count().reset_index()"
   ]
  },
  {
   "cell_type": "code",
   "execution_count": 15,
   "metadata": {},
   "outputs": [],
   "source": [
    "pos_reviews = reviews[reviews['sentiment_label'] == 'Positive']"
   ]
  },
  {
   "cell_type": "code",
   "execution_count": 16,
   "metadata": {},
   "outputs": [
    {
     "name": "stderr",
     "output_type": "stream",
     "text": [
      "/var/folders/5t/qp4h49ss46q2tzmcdgn4clc40000gn/T/ipykernel_1440/3640301246.py:1: SettingWithCopyWarning: \n",
      "A value is trying to be set on a copy of a slice from a DataFrame.\n",
      "Try using .loc[row_indexer,col_indexer] = value instead\n",
      "\n",
      "See the caveats in the documentation: https://pandas.pydata.org/pandas-docs/stable/user_guide/indexing.html#returning-a-view-versus-a-copy\n",
      "  pos_reviews['date'] = pd.to_datetime(pos_reviews['date'])\n"
     ]
    }
   ],
   "source": [
    "pos_reviews['date'] = pd.to_datetime(pos_reviews['date'])"
   ]
  },
  {
   "cell_type": "code",
   "execution_count": 17,
   "metadata": {},
   "outputs": [],
   "source": [
    "pos_reviews = pos_reviews.groupby(by='date').count().reset_index()"
   ]
  },
  {
   "cell_type": "code",
   "execution_count": 18,
   "metadata": {},
   "outputs": [
    {
     "data": {
      "text/plain": [
       "mean    140.62526\n",
       "Name: stars, dtype: float64"
      ]
     },
     "execution_count": 18,
     "metadata": {},
     "output_type": "execute_result"
    }
   ],
   "source": [
    "pos_reviews.describe()[1:2]['stars']"
   ]
  },
  {
   "cell_type": "code",
   "execution_count": 19,
   "metadata": {},
   "outputs": [
    {
     "data": {
      "text/html": [
       "<div>\n",
       "<style scoped>\n",
       "    .dataframe tbody tr th:only-of-type {\n",
       "        vertical-align: middle;\n",
       "    }\n",
       "\n",
       "    .dataframe tbody tr th {\n",
       "        vertical-align: top;\n",
       "    }\n",
       "\n",
       "    .dataframe thead th {\n",
       "        text-align: right;\n",
       "    }\n",
       "</style>\n",
       "<table border=\"1\" class=\"dataframe\">\n",
       "  <thead>\n",
       "    <tr style=\"text-align: right;\">\n",
       "      <th></th>\n",
       "      <th>date</th>\n",
       "      <th>stars</th>\n",
       "      <th>text</th>\n",
       "      <th>business_id</th>\n",
       "      <th>review_id</th>\n",
       "      <th>sentiment_label</th>\n",
       "    </tr>\n",
       "  </thead>\n",
       "  <tbody>\n",
       "    <tr>\n",
       "      <th>count</th>\n",
       "      <td>5458</td>\n",
       "      <td>5458.000000</td>\n",
       "      <td>5458.000000</td>\n",
       "      <td>5458.000000</td>\n",
       "      <td>5458.000000</td>\n",
       "      <td>5458.000000</td>\n",
       "    </tr>\n",
       "    <tr>\n",
       "      <th>mean</th>\n",
       "      <td>2014-07-25 05:02:21.150604544</td>\n",
       "      <td>43.860388</td>\n",
       "      <td>43.860388</td>\n",
       "      <td>43.860388</td>\n",
       "      <td>43.860388</td>\n",
       "      <td>43.860388</td>\n",
       "    </tr>\n",
       "    <tr>\n",
       "      <th>min</th>\n",
       "      <td>2005-06-24 00:00:00</td>\n",
       "      <td>1.000000</td>\n",
       "      <td>1.000000</td>\n",
       "      <td>1.000000</td>\n",
       "      <td>1.000000</td>\n",
       "      <td>1.000000</td>\n",
       "    </tr>\n",
       "    <tr>\n",
       "      <th>25%</th>\n",
       "      <td>2010-11-05 06:00:00</td>\n",
       "      <td>18.000000</td>\n",
       "      <td>18.000000</td>\n",
       "      <td>18.000000</td>\n",
       "      <td>18.000000</td>\n",
       "      <td>18.000000</td>\n",
       "    </tr>\n",
       "    <tr>\n",
       "      <th>50%</th>\n",
       "      <td>2014-07-31 12:00:00</td>\n",
       "      <td>41.000000</td>\n",
       "      <td>41.000000</td>\n",
       "      <td>41.000000</td>\n",
       "      <td>41.000000</td>\n",
       "      <td>41.000000</td>\n",
       "    </tr>\n",
       "    <tr>\n",
       "      <th>75%</th>\n",
       "      <td>2018-04-25 18:00:00</td>\n",
       "      <td>64.000000</td>\n",
       "      <td>64.000000</td>\n",
       "      <td>64.000000</td>\n",
       "      <td>64.000000</td>\n",
       "      <td>64.000000</td>\n",
       "    </tr>\n",
       "    <tr>\n",
       "      <th>max</th>\n",
       "      <td>2022-01-19 00:00:00</td>\n",
       "      <td>173.000000</td>\n",
       "      <td>173.000000</td>\n",
       "      <td>173.000000</td>\n",
       "      <td>173.000000</td>\n",
       "      <td>173.000000</td>\n",
       "    </tr>\n",
       "    <tr>\n",
       "      <th>std</th>\n",
       "      <td>NaN</td>\n",
       "      <td>31.093920</td>\n",
       "      <td>31.093920</td>\n",
       "      <td>31.093920</td>\n",
       "      <td>31.093920</td>\n",
       "      <td>31.093920</td>\n",
       "    </tr>\n",
       "  </tbody>\n",
       "</table>\n",
       "</div>"
      ],
      "text/plain": [
       "                                date        stars         text  business_id  \\\n",
       "count                           5458  5458.000000  5458.000000  5458.000000   \n",
       "mean   2014-07-25 05:02:21.150604544    43.860388    43.860388    43.860388   \n",
       "min              2005-06-24 00:00:00     1.000000     1.000000     1.000000   \n",
       "25%              2010-11-05 06:00:00    18.000000    18.000000    18.000000   \n",
       "50%              2014-07-31 12:00:00    41.000000    41.000000    41.000000   \n",
       "75%              2018-04-25 18:00:00    64.000000    64.000000    64.000000   \n",
       "max              2022-01-19 00:00:00   173.000000   173.000000   173.000000   \n",
       "std                              NaN    31.093920    31.093920    31.093920   \n",
       "\n",
       "         review_id  sentiment_label  \n",
       "count  5458.000000      5458.000000  \n",
       "mean     43.860388        43.860388  \n",
       "min       1.000000         1.000000  \n",
       "25%      18.000000        18.000000  \n",
       "50%      41.000000        41.000000  \n",
       "75%      64.000000        64.000000  \n",
       "max     173.000000       173.000000  \n",
       "std      31.093920        31.093920  "
      ]
     },
     "execution_count": 19,
     "metadata": {},
     "output_type": "execute_result"
    }
   ],
   "source": [
    "neg_reviews.describe()"
   ]
  },
  {
   "cell_type": "code",
   "execution_count": 20,
   "metadata": {},
   "outputs": [],
   "source": [
    "import matplotlib.pyplot as plt"
   ]
  },
  {
   "cell_type": "code",
   "execution_count": 21,
   "metadata": {},
   "outputs": [
    {
     "data": {
      "image/png": "[encoded data removed]",
      "text/plain": [
       "<Figure size 1000x500 with 2 Axes>"
      ]
     },
     "metadata": {},
     "output_type": "display_data"
    }
   ],
   "source": [
    "fig, ax = plt.subplots(2, 1, figsize=(10, 5))\n",
    "\n",
    "ax[0].bar(x=neg_reviews.date, height=neg_reviews.stars, color='red');\n",
    "ax[1].bar(x=pos_reviews.date, height=pos_reviews.stars, color='blue');\n"
   ]
  },
  {
   "cell_type": "code",
   "execution_count": 25,
   "metadata": {},
   "outputs": [
    {
     "data": {
      "image/png": "[encoded data removed]",
      "text/plain": [
       "<Figure size 1000x500 with 1 Axes>"
      ]
     },
     "metadata": {},
     "output_type": "display_data"
    }
   ],
   "source": [
    "fig, ax = plt.subplots(1, figsize=(10, 5))\n",
    "\n",
    "ax.bar(\n",
    "    x=neg_reviews[(neg_reviews['date'] > '2017') & (neg_reviews['date'] < '2018')].date,\n",
    "    height=neg_reviews[(neg_reviews['date'] > '2017') & (neg_reviews['date'] < '2018')].stars\n",
    ");"
   ]
  },
  {
   "cell_type": "code",
   "execution_count": 22,
   "metadata": {},
   "outputs": [
    {
     "data": {
      "image/png": "[encoded data removed]",
      "text/plain": [
       "<Figure size 1000x500 with 1 Axes>"
      ]
     },
     "metadata": {},
     "output_type": "display_data"
    }
   ],
   "source": [
    "fig, ax = plt.subplots(1, figsize=(10, 5))\n",
    "\n",
    "ax.bar(\n",
    "    x=neg_reviews[(neg_reviews['date'] > '2018') & (neg_reviews['date'] < '2019')].date,\n",
    "    height=neg_reviews[(neg_reviews['date'] > '2018') & (neg_reviews['date'] < '2019')].stars\n",
    ");"
   ]
  },
  {
   "cell_type": "code",
   "execution_count": 28,
   "metadata": {},
   "outputs": [
    {
     "data": {
      "image/png": "[encoded data removed]",
      "text/plain": [
       "<Figure size 1000x500 with 1 Axes>"
      ]
     },
     "metadata": {},
     "output_type": "display_data"
    }
   ],
   "source": [
    "fig, ax = plt.subplots(1, figsize=(10, 5))\n",
    "\n",
    "ax.bar(\n",
    "    x=neg_reviews[(neg_reviews['date'] > '2019') & (neg_reviews['date'] < '2020')].date,\n",
    "    height=neg_reviews[(neg_reviews['date'] > '2019') & (neg_reviews['date'] < '2020')].stars\n",
    ");"
   ]
  },
  {
   "cell_type": "code",
   "execution_count": 111,
   "metadata": {},
   "outputs": [
    {
     "data": {
      "image/png": "[encoded data removed]",
      "text/plain": [
       "<Figure size 2000x1000 with 2 Axes>"
      ]
     },
     "metadata": {},
     "output_type": "display_data"
    }
   ],
   "source": [
    "fig, ax = plt.subplots(2, 1, figsize=(20, 10))\n",
    "\n",
    "ax[0].bar(\n",
    "    x=neg_reviews[(neg_reviews['date'] > '2019-3') & (neg_reviews['date'] < '2019-7')].date,\n",
    "    height=neg_reviews[(neg_reviews['date'] > '2019-3') & (neg_reviews['date'] < '2019-7')].stars\n",
    ")\n",
    "# ax[0].plot(neg_reviews[(neg_reviews['date'] > '2019-3') & (neg_reviews['date'] < '2019-7')].date,\n",
    "#            pos_reviews.describe()[1:2]['stars']*212)\n",
    "\n",
    "ax[1].bar(\n",
    "    x=pos_reviews[(pos_reviews['date'] > '2019-3') & (pos_reviews['date'] < '2019-7')].date,\n",
    "    height=pos_reviews[(pos_reviews['date'] > '2019-3') & (pos_reviews['date'] < '2019-7')].stars\n",
    ");"
   ]
  }
 ],
 "metadata": {
  "kernelspec": {
   "display_name": "nf_sql",
   "language": "python",
   "name": "python3"
  },
  "language_info": {
   "codemirror_mode": {
    "name": "ipython",
    "version": 3
   },
   "file_extension": ".py",
   "mimetype": "text/x-python",
   "name": "python",
   "nbconvert_exporter": "python",
   "pygments_lexer": "ipython3",
   "version": "3.9.17"
  }
 },
 "nbformat": 4,
 "nbformat_minor": 2
}
