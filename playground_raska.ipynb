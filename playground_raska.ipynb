{
 "cells": [
  {
   "cell_type": "code",
   "execution_count": null,
   "metadata": {},
   "outputs": [],
   "source": [
    "import pandas as pd"
   ]
  },
  {
   "cell_type": "code",
   "execution_count": null,
   "metadata": {},
   "outputs": [],
   "source": [
    "businesses = pd.read_json('data/yelp_academic_dataset_business.json', lines=True)"
   ]
  },
  {
   "cell_type": "code",
   "execution_count": null,
   "metadata": {},
   "outputs": [],
   "source": [
    "businesses.drop(columns=['address', 'city', 'state', 'postal_code', 'is_open'], inplace=True, errors='ignore')"
   ]
  },
  {
   "cell_type": "code",
   "execution_count": null,
   "metadata": {},
   "outputs": [],
   "source": [
    "businesses.dropna(subset='categories', inplace=True)"
   ]
  },
  {
   "cell_type": "code",
   "execution_count": null,
   "metadata": {},
   "outputs": [],
   "source": [
    "businesses.reset_index(drop=True, inplace=True)"
   ]
  },
  {
   "cell_type": "code",
   "execution_count": null,
   "metadata": {},
   "outputs": [],
   "source": [
    "businesses"
   ]
  },
  {
   "cell_type": "code",
   "execution_count": null,
   "metadata": {},
   "outputs": [],
   "source": [
    "cat_data = pd.read_csv('data/categories.csv', header=None)\n",
    "\n",
    "categories = cat_data[0].tolist()\n",
    "\n",
    "businesses_df = pd.DataFrame()\n",
    "\n",
    "# businesses_da = pd.DataFrame()\n",
    "\n",
    "for index, item in businesses['categories'].items():\n",
    "\n",
    "    for category in categories:\n",
    "        if category in item:\n",
    "            businesses_df = pd.concat([businesses_df, businesses[index:index+1]])\n",
    "            break"
   ]
  },
  {
   "cell_type": "code",
   "execution_count": null,
   "metadata": {},
   "outputs": [],
   "source": [
    "def check_categories(row):\n",
    "\n",
    "    for category in categories:\n",
    "        print(row)\n",
    "   \n",
    "    #     print(businesses['categories'])\n",
    "    #     print(businesses['categories'].str.contains(category))\n",
    "    #     return businesses['categories'].str.contains(category)\n",
    "\n"
   ]
  },
  {
   "cell_type": "code",
   "execution_count": null,
   "metadata": {},
   "outputs": [],
   "source": [
    "cat_data = pd.read_csv('data/categories.csv', header=None)\n",
    "\n",
    "categories = cat_data[0].tolist()\n",
    "\n",
    "t = pd.DataFrame()\n",
    "\n",
    "t = businesses[businesses['categories'].apply(lambda row: check_categories(row))]"
   ]
  },
  {
   "cell_type": "code",
   "execution_count": null,
   "metadata": {},
   "outputs": [],
   "source": [
    "# cat_data = pd.read_csv('data/categories.csv', header=None)\n",
    "\n",
    "# categories = cat_data[0].tolist()\n",
    "\n",
    "# businesses['categories'].apply(lambda x: print(x))\n",
    "\n",
    "# businesses.apply(lambda x: x['categories'])"
   ]
  },
  {
   "cell_type": "code",
   "execution_count": null,
   "metadata": {},
   "outputs": [],
   "source": [
    "businesses['categories'].str.contains()"
   ]
  },
  {
   "cell_type": "code",
   "execution_count": null,
   "metadata": {},
   "outputs": [],
   "source": [
    "businesses"
   ]
  },
  {
   "cell_type": "code",
   "execution_count": null,
   "metadata": {},
   "outputs": [],
   "source": [
    "# create function for filtering by state\n",
    "\n",
    "def state_filter(dataframe, column, state):\n",
    "    businesses_new = dataframe[dataframe[column] == state].copy()\n",
    "    return businesses_new"
   ]
  },
  {
   "cell_type": "code",
   "execution_count": null,
   "metadata": {},
   "outputs": [],
   "source": [
    "#filter for all businesses in Pennsylvania \n",
    "\n",
    "businesses_pa = state_filter(businesses, 'state', 'PA')"
   ]
  },
  {
   "cell_type": "code",
   "execution_count": null,
   "metadata": {},
   "outputs": [],
   "source": [
    "# delete the columns 'address', 'city', 'state', 'postal_code', 'is_open'\n",
    "\n",
    "businesses_pa.drop(columns=['address', 'city', 'state', 'postal_code', 'is_open'], inplace=True, errors='ignore')"
   ]
  },
  {
   "cell_type": "code",
   "execution_count": null,
   "metadata": {},
   "outputs": [],
   "source": [
    "# drop row that have no category labels\n",
    "\n",
    "businesses_pa.dropna(subset='categories', inplace=True)"
   ]
  },
  {
   "cell_type": "code",
   "execution_count": null,
   "metadata": {},
   "outputs": [],
   "source": [
    "# reset index\n",
    "\n",
    "businesses_pa.reset_index(drop=True, inplace=True)"
   ]
  },
  {
   "cell_type": "code",
   "execution_count": null,
   "metadata": {},
   "outputs": [],
   "source": [
    "# import category labels from csv and filter dataframe to keep row that have category label\n",
    "\n",
    "\n",
    "cat_data = pd.read_csv('data/categories.csv', header=None)\n",
    "\n",
    "categories = cat_data[0].tolist()\n",
    "\n",
    "businesses_pa_df = pd.DataFrame()\n",
    "\n",
    "# businesses_da = pd.DataFrame()\n",
    "\n",
    "for index, item in businesses_pa['categories'].items():\n",
    "\n",
    "    for category in categories:\n",
    "        if category in item:\n",
    "            businesses_pa_df = pd.concat([businesses_pa_df, businesses_pa[index:index+1]])\n",
    "            break"
   ]
  },
  {
   "cell_type": "code",
   "execution_count": null,
   "metadata": {},
   "outputs": [],
   "source": [
    "type(businesses_pa['categories'][0])"
   ]
  },
  {
   "cell_type": "code",
   "execution_count": null,
   "metadata": {},
   "outputs": [],
   "source": [
    "word = 'Robert'\n",
    "\n",
    "sent = 'Robert likes Apples'\n",
    "\n",
    "if word in sent:\n",
    "    print('Yes')"
   ]
  },
  {
   "cell_type": "code",
   "execution_count": null,
   "metadata": {},
   "outputs": [],
   "source": [
    "businesses_pa_df"
   ]
  },
  {
   "cell_type": "code",
   "execution_count": null,
   "metadata": {},
   "outputs": [],
   "source": [
    "import json"
   ]
  },
  {
   "cell_type": "code",
   "execution_count": null,
   "metadata": {},
   "outputs": [],
   "source": [
    "businesses_pa_id = businesses_pa_df['business_id'].tolist()"
   ]
  },
  {
   "cell_type": "code",
   "execution_count": null,
   "metadata": {},
   "outputs": [],
   "source": [
    "import pandas as pd\n",
    "\n",
    "column_names = ['review_id', 'user_id', 'business_id', 'stars', 'useful', 'funny', 'cool', 'text', 'date']\n",
    "\n",
    "chunks = pd.read_json('data/yelp_academic_dataset_review.json', lines=True, chunksize=100000)\n",
    "\n",
    "with open('data/businesses_pa.csv', 'w') as f:\n",
    "    header = ','.join(column_names)\n",
    "    f.write(header + '\\n')\n",
    "\n",
    "for chunk in chunks:\n",
    "\n",
    "    df = pd.DataFrame(chunk)\n",
    "\n",
    "    for index, item in df['business_id'].items():\n",
    "\n",
    "        if item in businesses_pa_id:\n",
    "\n",
    "            chunk[index:index+1].to_csv('data/businesses_pa.csv', mode='a', header=False, index=False)\n",
    "\n",
    "    break"
   ]
  },
  {
   "cell_type": "code",
   "execution_count": null,
   "metadata": {},
   "outputs": [],
   "source": [
    "df2 = pd.read_csv('data/businesses_pa.csv')\n",
    "df2"
   ]
  },
  {
   "cell_type": "code",
   "execution_count": null,
   "metadata": {},
   "outputs": [],
   "source": [
    "import pandas as pd\n",
    "\n",
    "column_names = ['review_id', 'user_id', 'business_id', 'stars', 'useful', 'funny', 'cool', 'text', 'date']\n",
    "\n",
    "chunks = pd.read_json('data/yelp_academic_dataset_review.json', lines=True, chunksize=100000)\n",
    "\n",
    "with open('data/businesses_pa.csv', 'w') as f:\n",
    "    header = ','.join(column_names)\n",
    "    f.write(header + '\\n')\n",
    "\n",
    "for chunk in chunks:\n",
    "\n",
    "    chunk_new = chunk[chunk['business_id'].isin(businesses_pa_id)]\n",
    "\n",
    "    chunk_new.to_csv('data/businesses_pa.csv', mode='a', header=False, index=False)\n",
    "\n",
    "    # break"
   ]
  },
  {
   "cell_type": "code",
   "execution_count": null,
   "metadata": {},
   "outputs": [],
   "source": [
    "df2 = pd.read_csv('data/businesses_pa.csv')\n",
    "df2"
   ]
  },
  {
   "cell_type": "code",
   "execution_count": null,
   "metadata": {},
   "outputs": [],
   "source": [
    "df"
   ]
  },
  {
   "cell_type": "code",
   "execution_count": null,
   "metadata": {},
   "outputs": [],
   "source": [
    "import unicodedata\n",
    "\n",
    "x = \"u'none'\"\n"
   ]
  },
  {
   "cell_type": "code",
   "execution_count": null,
   "metadata": {},
   "outputs": [],
   "source": [
    "import pandas as pd\n",
    "\n",
    "# df = pd.DataFrame()\n",
    "\n",
    "\n",
    "businesses_pa_id\n",
    "\n",
    "chunks = pd.read_json('data/yelp_academic_dataset_review.json', lines=True, chunksize=50000)\n",
    "\n",
    "for chunk in chunks:\n",
    "\n",
    "    print(type(chunk))"
   ]
  },
  {
   "cell_type": "code",
   "execution_count": null,
   "metadata": {},
   "outputs": [],
   "source": [
    "check_in = pd.read_json('data/yelp_academic_dataset_checkin.json', lines=True)"
   ]
  },
  {
   "cell_type": "code",
   "execution_count": null,
   "metadata": {},
   "outputs": [],
   "source": [
    "check_in['date']"
   ]
  }
 ],
 "metadata": {
  "kernelspec": {
   "display_name": "sql_api",
   "language": "python",
   "name": "python3"
  },
  "language_info": {
   "codemirror_mode": {
    "name": "ipython",
    "version": 3
   },
   "file_extension": ".py",
   "mimetype": "text/x-python",
   "name": "python",
   "nbconvert_exporter": "python",
   "pygments_lexer": "ipython3",
   "version": "3.11.4"
  }
 },
 "nbformat": 4,
 "nbformat_minor": 2
}
